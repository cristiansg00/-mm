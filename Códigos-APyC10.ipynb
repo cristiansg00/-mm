{
 "cells": [
  {
   "cell_type": "code",
   "execution_count": null,
   "metadata": {
    "collapsed": true
   },
   "outputs": [],
   "source": [
    "\"\"\"\n",
    "(1)Calcule el coseno de la suma de las hipotenusas de los triángulos rectángulos con altura M/2 y lado L. Siendo L y M el logaritmo\n",
    "natural de los primeros 60 numeros multiplos de 5 comprendidos entre 2929 y 4929 y el producto de PI por el coseno de los\n",
    "primeros 60 numeros impares entre 4433 y 4929 respectivamente. (Tomar PI como 3,1416) (incluyendo ambos extremos). Escriba la\n",
    "respuesta aproximada a seis (6) cifras decimales.\n",
    "\"\"\""
   ]
  },
  {
   "cell_type": "code",
   "execution_count": null,
   "metadata": {
    "collapsed": true
   },
   "outputs": [],
   "source": [
    "import math\n",
    "a = 2929\n",
    "b = 4929\n",
    "c = 4433\n",
    "e = []\n",
    "f = []\n",
    "s = 0\n",
    "for i in range(a,b+1):\n",
    "    if i % 5 == 0:\n",
    "        d = math.log1p(i-1)\n",
    "        e.append(d)\n",
    "    if len(e) == 60:\n",
    "        break\n",
    "for i in range(c,b+1):\n",
    "    if i % 2 != 0:\n",
    "        g = 3.1416*(math.cos(i))\n",
    "        f.append(g/2)\n",
    "    if len(f) == 60:\n",
    "        break\n",
    "for i in range(0,len(e)):\n",
    "    h = math.hypot(e[i],f[i])\n",
    "    s += h\n",
    "print(round(math.cos(s),6))"
   ]
  },
  {
   "cell_type": "code",
   "execution_count": null,
   "metadata": {
    "collapsed": true
   },
   "outputs": [],
   "source": [
    "\"\"\"\n",
    "(2)Calcule el coseno de la suma de las áreas de los cuadrados de lados L. Siendo L los números impares múltiplos de tres\n",
    "comprendidos entre 2976 y 5907 (incluyendo ambos extremos). Escriba la respuesta aproximada a seis (6) cifras decimales.\n",
    "\"\"\""
   ]
  },
  {
   "cell_type": "code",
   "execution_count": null,
   "metadata": {
    "collapsed": true
   },
   "outputs": [],
   "source": [
    "import math\n",
    "a = 2976\n",
    "b = 5907\n",
    "c = 0\n",
    "for i in range(a,b+1):\n",
    "    if i % 3 == 0 and i %2 != 0:\n",
    "        d = i**2\n",
    "        c +=d\n",
    "e = math.cos(c)\n",
    "print(round(e,6))"
   ]
  },
  {
   "cell_type": "code",
   "execution_count": null,
   "metadata": {
    "collapsed": true
   },
   "outputs": [],
   "source": [
    "\"\"\"\n",
    "(2M)\n",
    "Calcule el seno de la suma de los perimetros de los cuadrados de lado 6L, siendo L los números múltiplos de 4 comprendidos\n",
    "entre 5369 y 6490 (incluyendo ambos extremos). Escriba la respuesta aproximada a seis (6) cifras decimales. \n",
    "\n",
    "\"\""
   ]
  },
  {
   "cell_type": "code",
   "execution_count": 3,
   "metadata": {},
   "outputs": [
    {
     "name": "stdout",
     "output_type": "stream",
     "text": [
      "0.999433\n"
     ]
    }
   ],
   "source": [
    "import math\n",
    "a = 5555\n",
    "b = 9331\n",
    "d = 0\n",
    "for i in range(a,b+1):\n",
    "    if i % 9 == 0:\n",
    "        c = (i)*4\n",
    "        d += c\n",
    "print(round(math.sin(d) ,6))"
   ]
  },
  {
   "cell_type": "code",
   "execution_count": null,
   "metadata": {
    "collapsed": true
   },
   "outputs": [],
   "source": [
    "\"\"\"\n",
    "(4)Calcule el seno de la suma de la raiz cúbica de las areas de los cuadrados de lado 3L, siendo L los números múltiplos de 6\n",
    "comprendidos entre 2720 y 6290 (incluyendo ambos extremos). Escriba la respuesta aproximada a seis (6) cifras decimales. \n",
    "\"\"\""
   ]
  },
  {
   "cell_type": "code",
   "execution_count": null,
   "metadata": {
    "collapsed": true
   },
   "outputs": [],
   "source": [
    "import math\n",
    "a = 2720\n",
    "b = 6290\n",
    "d = 0\n",
    "for i in range(a,b+1):\n",
    "    if i % 6 == 0:\n",
    "        c = (3*i)**2\n",
    "        e = c ** (1/3)\n",
    "        d += e\n",
    "print(round(math.sin(d) ,6))"
   ]
  },
  {
   "cell_type": "code",
   "execution_count": null,
   "metadata": {
    "collapsed": true
   },
   "outputs": [],
   "source": [
    "\"\"\"\n",
    "(6)Calcule el seno de la suma de las áreas de los rectángulos con base 2L y altura 3M. Siendo L y M los primeros 20 numeros\n",
    "comprendidos entre 2685 y 4685 cuya division entera por 3 sea menor a 950 y multiplo de 5 y los primeros 20 numeros comprendidos\n",
    "entre 12 y 3685 cuya division entera por 5 sea un numero par respectivamente. (incluyendo ambos extremos). Escriba la respuesta\n",
    "aproximada a seis (6) cifras decimales. RTA(0.74449)\n",
    "\"\"\""
   ]
  },
  {
   "cell_type": "code",
   "execution_count": null,
   "metadata": {
    "collapsed": true
   },
   "outputs": [],
   "source": [
    "import math\n",
    "a = 2685\n",
    "b = 4685\n",
    "c = 12\n",
    "d = 3685\n",
    "f = 0\n",
    "L = []\n",
    "M = []\n",
    "for i in range (a,b+1):\n",
    "    if (i // 3) < 950 and i % 5 == 0:\n",
    "        L.append(i)\n",
    "    if len(L) == 20:\n",
    "        break\n",
    "for i in range (c,d+1):\n",
    "    if (i // 5) % 2 == 0:\n",
    "        M.append(i)\n",
    "    if len(M) == 20:\n",
    "        break\n",
    "for i in range(0,len(L)):\n",
    "    e = L[i] * M[i] * 6\n",
    "    f += e\n",
    "print(round(math.sin(f) ,6))"
   ]
  },
  {
   "cell_type": "code",
   "execution_count": null,
   "metadata": {
    "collapsed": true
   },
   "outputs": [],
   "source": [
    "\"\"\"\n",
    "(5)Calcule el coseno de la suma de las hipotenusas de los triángulos rectángulos con altura M/2 y lado L. Siendo L y M los ultimos\n",
    "45 numeros comprendidos entre 1254 y 3254 cuya division entera por 3 sea un numero par y el producto de 2 por el seno de los\n",
    "ultimos 45 numeros impares comprendidos entre 2102 y 2254 respectivamente. (incluyendo ambos extremos). Escriba la respuesta\n",
    "aproximada a seis (6) cifras decimales.\n",
    "\"\"\""
   ]
  },
  {
   "cell_type": "code",
   "execution_count": null,
   "metadata": {
    "collapsed": true
   },
   "outputs": [],
   "source": [
    "import math\n",
    "import math\n",
    "a = 5058\n",
    "b = 8058\n",
    "c = 6591\n",
    "d = 8058\n",
    "L = []\n",
    "M = []\n",
    "s = 0\n",
    "for i in range(b,a,-1):\n",
    "    if (i // 3) % 2 == 0:\n",
    "        L.append(i)\n",
    "    if len(L) == 100:\n",
    "        break\n",
    "for i in range(d,c,-1):\n",
    "    if i % 2 != 0:\n",
    "        g = (math.sin(i))\n",
    "        M.append(g)\n",
    "    if len(M) == 45:\n",
    "        break\n",
    "for i in range(0,len(L)):\n",
    "    h = math.hypot(L[i],M[i])\n",
    "    s += h\n",
    "print(round(math.cos(s),6))"
   ]
  },
  {
   "cell_type": "code",
   "execution_count": null,
   "metadata": {
    "collapsed": true
   },
   "outputs": [],
   "source": [
    "\"\"\"\n",
    "(7)Calcule el logaritmo natural del valor absoluto de la suma de las áreas de los paralelogramos de lado L y altura L/2. Siendo L\n",
    "los números comprendidos entre 1625 y 1882 cuyo módulo por cinco sea igual a dos (incluyendo ambos extremos). Escriba la\n",
    "respuesta aproximada a seis (6) cifras decimales.\n",
    "\"\"\""
   ]
  },
  {
   "cell_type": "code",
   "execution_count": null,
   "metadata": {
    "collapsed": true
   },
   "outputs": [],
   "source": [
    "import math\n",
    "a = 1625\n",
    "b = 1882\n",
    "L = []\n",
    "s = 0\n",
    "for i in range(a,b+1):\n",
    "    if i % 5 == 2:\n",
    "        L.append(i)\n",
    "for i in range(0,len(L)):\n",
    "    c = L[i]*L[i]/2\n",
    "    s += c\n",
    "print(math.log1p(s-1))"
   ]
  },
  {
   "cell_type": "code",
   "execution_count": null,
   "metadata": {
    "collapsed": true
   },
   "outputs": [],
   "source": [
    "\"\"\"\n",
    "(8)Calcule el coseno de la suma de los perímetros de los triángulos rectangulos de lado L y altura M. Siendo L y M el logaritmo\n",
    "natural de los primeros 90 numeros multiplos de 5 comprendidos entre 5370 y 8370 y los primeros 90 numeros comprendidos entre\n",
    "5807 y 6370 cuyo modulo por 3 sea igual a 2 respectivamente. (incluyendo ambos extremos). Escriba la respuesta aproximada a seis\n",
    "(6) cifras decimales. RTA(0.154467)\n",
    "\"\"\""
   ]
  },
  {
   "cell_type": "code",
   "execution_count": null,
   "metadata": {
    "collapsed": true
   },
   "outputs": [],
   "source": [
    "import math\n",
    "a = 5370\n",
    "b = 8370\n",
    "c = 5807\n",
    "d = 6370\n",
    "s = 0\n",
    "L = []\n",
    "M = []\n",
    "for i in range(a,b+1):\n",
    "    if i % 5 == 0:\n",
    "        L.append(math.log1p(i-1))\n",
    "    if len(L) == 90:\n",
    "        break\n",
    "for i in range(c,d+1):\n",
    "    if i % 3 == 2:\n",
    "        M.append(i)\n",
    "    if len(M) == 90:\n",
    "        break\n",
    "for i in range(0,len(L)):\n",
    "    h = math.hypot(L[i],M[i])\n",
    "    p = h + L[i] + M[i]\n",
    "    s += p\n",
    "print(round(math.cos(s) ,6))"
   ]
  },
  {
   "cell_type": "code",
   "execution_count": null,
   "metadata": {
    "collapsed": true
   },
   "outputs": [],
   "source": [
    "\"\"\"\n",
    "(9)Calcule el logaritmo natural del valor absoluto del promedio de los volúmenes de los cilindros de radio L/2 y altura 2L\n",
    "(tomar pi como 3,14). Siendo L los números impares múltiplos de siete comprendidos entre 3515 y 6782 (incluyendo ambos extremos).\n",
    "Escriba la respuesta aproximada a seis (6) cifras decimales.\n",
    "\"\"\""
   ]
  },
  {
   "cell_type": "code",
   "execution_count": null,
   "metadata": {
    "collapsed": true
   },
   "outputs": [],
   "source": [
    "import math\n",
    "a = 3515\n",
    "b = 6782\n",
    "L = []\n",
    "s = 0\n",
    "for i in range(a,b+1):\n",
    "    if i % 2 != 0 and i % 7 == 0:\n",
    "        L.append(i)\n",
    "for i in range(0,len(L)):\n",
    "    v = (3.14 * ((L[i]/2)**2) * L[i] * 2)\n",
    "    s += v\n",
    "p = s/len(L)\n",
    "print(round(math.log1p(p-1) ,6))"
   ]
  },
  {
   "cell_type": "code",
   "execution_count": null,
   "metadata": {
    "collapsed": true
   },
   "outputs": [],
   "source": [
    "\"\"\"\n",
    "(10)Calcule el seno de la suma de la raiz cúbica de las areas de los cuadrados de lado 4L, siendo L los números pares comprendidos\n",
    "entre 3186 y 4869 (incluyendo ambos extremos). Escriba la respuesta aproximada a seis (6) cifras decimales. \n",
    "\"\"\""
   ]
  },
  {
   "cell_type": "code",
   "execution_count": null,
   "metadata": {
    "collapsed": true
   },
   "outputs": [],
   "source": [
    "import math\n",
    "a = 3186\n",
    "b = 4869\n",
    "s = 0\n",
    "for i in range(a,b+1):\n",
    "    if i % 2 == 0:\n",
    "        c = (4*i) ** 2\n",
    "        r = c ** (1/3)\n",
    "        s += r\n",
    "print(round(math.sin(s) ,6))"
   ]
  },
  {
   "cell_type": "code",
   "execution_count": null,
   "metadata": {
    "collapsed": true
   },
   "outputs": [],
   "source": [
    "\"\"\"\n",
    "(1)Calcule el seno del promedio de las diferencias entre las áreas de un círculo de radio 2L y los cuadrados de lado 3L. Siendo L\n",
    "los números impares múltiplos de siete comprendidos entre 1584 y 3952 (incluyendo ambos extremos). Escriba la respuesta\n",
    "aproximada a seis (6) cifras decimales.\n",
    "\"\"\"\n"
   ]
  },
  {
   "cell_type": "code",
   "execution_count": null,
   "metadata": {
    "collapsed": true
   },
   "outputs": [],
   "source": [
    "import math\n",
    "a = 1584\n",
    "b = 3952\n",
    "L = []\n",
    "s = 0\n",
    "for i in range(a,b+1):\n",
    "    if i % 2 != 0 and i % 7 == 0:\n",
    "        L.append(i)\n",
    "for i in L:\n",
    "    c = 3.14 * i * i * 4 \n",
    "    cu = (3 * i)**2\n",
    "    d = c-cu\n",
    "    s += d\n",
    "print(round(math.sin(s/len(L)) ,6))"
   ]
  },
  {
   "cell_type": "code",
   "execution_count": null,
   "metadata": {
    "collapsed": true
   },
   "outputs": [],
   "source": [
    "\"\"\"\n",
    "(2)Calcule el coseno del promedio de los elementos de L, siendo L los números impares comprendidos entre 4221 y 5368 (incluyendo\n",
    "ambos extremos). Escriba la respuesta aproximada a seis (6) cifras decimales. \n",
    "\"\"\""
   ]
  },
  {
   "cell_type": "code",
   "execution_count": null,
   "metadata": {
    "collapsed": true
   },
   "outputs": [],
   "source": [
    "import math\n",
    "a = 4221\n",
    "b = 5368\n",
    "L = []\n",
    "for i in range(a,b+1):\n",
    "    if i % 2 != 0:\n",
    "        L.append(i)\n",
    "p = sum(L)/len(L)\n",
    "print(round(math.cos(p) ,6))"
   ]
  },
  {
   "cell_type": "code",
   "execution_count": null,
   "metadata": {
    "collapsed": true
   },
   "outputs": [],
   "source": [
    "\"\"\"\n",
    "(3)Calcule el seno de la suma de volúmenes de las esferas de diametro L(tomar pi como 3,14). Siendo L la suma del número y euler\n",
    "para los números pares multiplos de nueve comprendidos entre 6696 y 10630 (Tomar euler como 2,72) (incluyendo ambos extremos).\n",
    "Escriba la respuesta aproximada a seis (6) cifras decimales. RTA(0.74136331)\n",
    "\"\"\""
   ]
  },
  {
   "cell_type": "code",
   "execution_count": null,
   "metadata": {
    "collapsed": true
   },
   "outputs": [],
   "source": [
    "import math\n",
    "a = 6696\n",
    "b = 10630\n",
    "L = 0\n",
    "for i in range(a,b+1):\n",
    "    if i % 2 == 0 and i % 9 == 0:\n",
    "        d  = i + 2.72\n",
    "        r = d / 2\n",
    "        v = 3.14 * (r ** 3) * 4 / 3\n",
    "        L += v\n",
    "print(round(math.sin(L) ,6))"
   ]
  },
  {
   "cell_type": "code",
   "execution_count": null,
   "metadata": {
    "collapsed": true
   },
   "outputs": [],
   "source": [
    "\"\"\"\"\n",
    "(1M)\n",
    "(4)Calcule el coseno de la suma de las hipotenusas de los triángulos rectángulos con altura M/2 y lado L. Siendo L y M los ultimos\n",
    "100 numeros comprendidos entre 1848 y 2848 cuyo modulo por 3 sea igual a 2 y la raiz cubica de los ultimos 100 numeros multiplos\n",
    "de 5 comprendidos entre 3208 y 7848 respectivamente. (incluyendo ambos extremos). Escriba la respuesta aproximada a seis (6)\n",
    "cifras decimales.\n",
    "\"\"\""
   ]
  },
  {
   "cell_type": "code",
   "execution_count": null,
   "metadata": {
    "collapsed": true
   },
   "outputs": [],
   "source": [
    "import math\n",
    "a = 5058\n",
    "b = 8058\n",
    "c = 6591\n",
    "d = 8058\n",
    "L = []\n",
    "M = []\n",
    "s = 0\n",
    "for i in range(b,a,-1):\n",
    "    if i % 3 == 2:\n",
    "        L.append(i)\n",
    "    if len(L) == 100:\n",
    "        break\n",
    "for i in range(d,c,-1):\n",
    "    if i % 5 == 0:\n",
    "        r = i ** (1/3)\n",
    "        M.append(r/2)\n",
    "    if len(M) == 100:\n",
    "        break\n",
    "for i in range(0,len(L)):\n",
    "    h = math.hypot(L[i],M[i])\n",
    "    s += h\n",
    "print(round(math.cos(s),6))"
   ]
  },
  {
   "cell_type": "code",
   "execution_count": null,
   "metadata": {
    "collapsed": true
   },
   "outputs": [],
   "source": [
    "\"\"\"\n",
    " (3M)Calcule el seno de la suma de los perimetros de los triangulos equilateros de lado L, siendo L los números múltiplos\n",
    "de 7 comprendidos entre 4184 y 5839 (incluyendo ambos extremos). Escriba la respuesta aproximada a seis (6) cifras decimales. \n",
    "\n",
    "\"\"\""
   ]
  },
  {
   "cell_type": "code",
   "execution_count": null,
   "metadata": {
    "collapsed": true
   },
   "outputs": [],
   "source": [
    "import math\n",
    "a = 4184\n",
    "b = 5839\n",
    "L = 0\n",
    "for i in range(a,b+1):\n",
    "    if i % 7 == 0:\n",
    "        la = i*3\n",
    "        \n",
    "        L += la\n",
    "print(math.sin(L))"
   ]
  },
  {
   "cell_type": "code",
   "execution_count": null,
   "metadata": {
    "collapsed": true
   },
   "outputs": [],
   "source": [
    "\"\"\"\n",
    "(7)Calcule el seno de la suma de los elementos de L, siendo L los números impares comprendidos entre 5321 y 8795 (incluyendo ambos\n",
    "extremos). Escriba la respuesta aproximada a seis (6) cifras decimales. \n",
    "\"\"\""
   ]
  },
  {
   "cell_type": "code",
   "execution_count": null,
   "metadata": {
    "collapsed": true
   },
   "outputs": [],
   "source": [
    "import math\n",
    "a = 5321\n",
    "b = 8795\n",
    "L = 0\n",
    "for i in range(a,b+1):\n",
    "    if i % 2 != 0:\n",
    "        L += i\n",
    "print(math.sin(L))"
   ]
  },
  {
   "cell_type": "code",
   "execution_count": null,
   "metadata": {
    "collapsed": true
   },
   "outputs": [],
   "source": [
    "\"\"\"\n",
    "(9)Calcule el seno del promedio de las diferencias entre las áreas de un círculo de radio 2L y los cuadrados de lado 3M(tomar pi\n",
    "como 3,14). Siendo L y M la raiz cubica de los primeros 60 numeros multiplos de 5 comprendidos entre 1204 y 4204 y los primeros\n",
    "60 numeros comprendidos entre 6180 y 7204 cuya division entera por 3 sea un numero par respectivamente. (incluyendo ambos\n",
    "extremos). Escriba la respuesta aproximada a seis (6) cifras decimales. RTA(0.368296)\n",
    "\"\"\""
   ]
  },
  {
   "cell_type": "code",
   "execution_count": null,
   "metadata": {
    "collapsed": true
   },
   "outputs": [],
   "source": [
    "import math\n",
    "a = 1204\n",
    "b = 4204\n",
    "c = 6180\n",
    "d = 7204\n",
    "L = []\n",
    "M = []\n",
    "s = 0\n",
    "for i in range(a,b+1):\n",
    "    if i % 5 == 0:\n",
    "        L.append(i**(1/3))\n",
    "    if len(L) == 60:\n",
    "        break\n",
    "for i in range (c,d+1):\n",
    "    if (i//3) % 2 == 0:\n",
    "        M.append(i*3)\n",
    "    if len(M) == 60:\n",
    "        break\n",
    "for i in range(0,len(L)):\n",
    "    ci = 3.14 * (L[i]**2) * 4\n",
    "    cu = M[i] ** 2\n",
    "    dif = ci-cu\n",
    "    s += dif\n",
    "print(round(math.sin(s/60) ,6))"
   ]
  },
  {
   "cell_type": "code",
   "execution_count": null,
   "metadata": {
    "collapsed": true
   },
   "outputs": [],
   "source": [
    "\"\"\"\n",
    "(5)Calcule el seno del promedio de las áreas de los rectangulos de lados L y M. Siendo L y M los primeros 20 numeros comprendidos\n",
    "entre 6927 y 9927 cuya division entera por 3 sea menor a 950 y multiplo de 5 y los primeros 20 numeros comprendidos entre 6855\n",
    "y 8927 cuya division entera por 5 sea un numero par respectivamente. (incluyendo ambos extremos). Escriba la respuesta\n",
    "aproximada a seis (6) cifras decimales. RTA(0.740535)\n",
    "\"\"\""
   ]
  },
  {
   "cell_type": "code",
   "execution_count": null,
   "metadata": {
    "collapsed": true
   },
   "outputs": [],
   "source": [
    "import math\n",
    "a = 6927\n",
    "b = 9927\n",
    "c = 6855\n",
    "d = 8927\n",
    "f = 0\n",
    "L = []\n",
    "M = []\n",
    "for i in range (a,b+1):\n",
    "    if (i // 3) < 950 and i % 5 == 0:\n",
    "        L.append(i)\n",
    "    if len(L) == 20:\n",
    "        break\n",
    "for i in range (c,d+1):\n",
    "    if (i // 5) % 2 == 0:\n",
    "        M.append(i)\n",
    "    if len(M) == 20:\n",
    "        break\n",
    "for i in range(0,len(L)):\n",
    "    e = L[i] * M[i]\n",
    "    f += e\n",
    "p = f/20\n",
    "print(round(math.sin(p) ,6))"
   ]
  },
  {
   "cell_type": "code",
   "execution_count": null,
   "metadata": {
    "collapsed": true
   },
   "outputs": [],
   "source": [
    "\"\"\"\n",
    "(8)Calcule el coseno del promedio del area de una cara para los cubos de lado 2L. Siendo L los números comprendidos entre 4773 y\n",
    "5932 múltiplos de dos y tres simultáneamente (incluyendo ambos extremos). Escriba la respuesta aproximada a seis (6) cifras\n",
    "decimales. RTA(0.86378954791434)\n",
    "\"\"\""
   ]
  },
  {
   "cell_type": "code",
   "execution_count": null,
   "metadata": {
    "collapsed": true
   },
   "outputs": [],
   "source": [
    "import math\n",
    "a = 4773\n",
    "b = 5932\n",
    "L = []\n",
    "for i in range(a,b+1):\n",
    "    if i % 6 == 0:\n",
    "        L.append((i*2)**2)\n",
    "print(round(math.cos(sum(L)/len(L)) ,6))"
   ]
  },
  {
   "cell_type": "code",
   "execution_count": null,
   "metadata": {
    "collapsed": true
   },
   "outputs": [],
   "source": [
    "\"\"\"\n",
    "(10)Calcule el coseno de la suma de los volúmenes de los cilindros de radio 3L/2 y altura 5M(tomar pi como 3,14). Siendo L y M\n",
    "la raiz cubica de los primeros 60 numeros multiplos de 5 comprendidos entre 3645 y 4657 y los primeros 60 numeros comprendidos\n",
    "entre 3645 y 4657 cuya division entera por 3 sea un numero par respectivamente. (incluyendo ambos extremos). Escriba\n",
    "la respuesta aproximada a seis (6) cifras decimales.\n",
    "\"\"\""
   ]
  },
  {
   "cell_type": "code",
   "execution_count": 2,
   "metadata": {},
   "outputs": [
    {
     "name": "stdout",
     "output_type": "stream",
     "text": [
      "-0.19030832037318698\n"
     ]
    }
   ],
   "source": [
    "import math\n",
    "a = 3645\n",
    "b = 4657\n",
    "c = 3645\n",
    "L = []\n",
    "M = []\n",
    "s = 0\n",
    "for i in range(a,b+1):\n",
    "    if i % 5 == 0:\n",
    "        d = i**(1/3)\n",
    "        L.append(3 * d / 2)\n",
    "    if len(L) == 60:\n",
    "        break\n",
    "for i in range(c,b+1):\n",
    "    if (int(i/3))%2 == 0:\n",
    "        M.append(i*5)\n",
    "    if len(M) == 60:\n",
    "        break\n",
    "for i in range(0,len(L)):\n",
    "    v = 3.14 * M[i] * (L[i]**2)\n",
    "    s += v\n",
    "print(math.cos(s))"
   ]
  },
  {
   "cell_type": "code",
   "execution_count": null,
   "metadata": {
    "collapsed": true
   },
   "outputs": [],
   "source": [
    "\"\"\"\n",
    "(4M)Calcule el seno del promedio de las áreas de los rectángulos cuya base es 2L y altura es L. Siendo L los números\n",
    "comprendidos entre 1387 y 2463 cuyo módulo por cinco sea igual a dos (incluyendo ambos extremos). Escriba la respuesta\n",
    "aproximada a seis (6) cifras decimales.\n",
    "\"\"\""
   ]
  },
  {
   "cell_type": "code",
   "execution_count": null,
   "metadata": {
    "collapsed": true
   },
   "outputs": [],
   "source": [
    "import math\n",
    "a = 1387\n",
    "b = 2463\n",
    "l = 0\n",
    "j = 0\n",
    "\n",
    "for i in range (a,b+1):\n",
    "    if i%5 ==2:\n",
    "        L = (2*i)*i\n",
    "        l+=L\n",
    "        j+=1\n",
    "p = l/j\n",
    "print(math.sin(p))"
   ]
  },
  {
   "cell_type": "code",
   "execution_count": null,
   "metadata": {
    "collapsed": true
   },
   "outputs": [],
   "source": [
    "\"\"\"\n",
    "(6M)Calcule el coseno de la suma de los volúmenes de los cilindros de radio L/2 y altura 2L(tomar pi como 3,14). \n",
    "Siendo L los números comprendidos entre 4971 y 8946 múltiplos de dos y tres simultáneamente (incluyendo ambos extremos). \n",
    "Escriba la respuesta aproximada a seis (6) cifras decimales.\n",
    "\"\"\""
   ]
  },
  {
   "cell_type": "code",
   "execution_count": null,
   "metadata": {
    "collapsed": true
   },
   "outputs": [],
   "source": [
    "import math\n",
    "a = 4971\n",
    "b = 8946\n",
    "V = 0\n",
    "\n",
    "for i in range(a,b+1):\n",
    "    if i%2==0 and i%3==0:\n",
    "        v = ((i/2)**2)*3.14*(2*i)\n",
    "        V +=v\n",
    "print(math.cos(V))\n",
    "        "
   ]
  },
  {
   "cell_type": "code",
   "execution_count": null,
   "metadata": {
    "collapsed": true
   },
   "outputs": [],
   "source": [
    "\"\"\"\n",
    "(5M)Calcule el logaritmo natural del valor absoluto del promedio de los perímetros de los círculos de diametro L\n",
    "(tomar pi como 3,14). Siendo L la suma del número y euler para los números pares multiplos de nueve comprendidos\n",
    "entre 6167 y 7846 (Tomar euler como 2,72) (incluyendo ambos extremos). Escriba la respuesta aproximada a seis (6)\n",
    "cifras decimales.\n",
    "\"\"\""
   ]
  },
  {
   "cell_type": "code",
   "execution_count": null,
   "metadata": {
    "collapsed": true
   },
   "outputs": [],
   "source": [
    "import math\n",
    "a = 6167\n",
    "b = 7846\n",
    "L = []\n",
    "for i in range(a,b+1):\n",
    "    if i % 2 == 0 and i % 9 == 0:\n",
    "        r = (i+2.72)\n",
    "        L.append(r*3.14)\n",
    "\n",
    "print(round(math.log1p(sum(L)/len(L)) ,13))"
   ]
  },
  {
   "cell_type": "code",
   "execution_count": null,
   "metadata": {
    "collapsed": true
   },
   "outputs": [],
   "source": [
    "\"\"\"\n",
    "(7M)Calcule el coseno del promedio de los perimetros de los cuadrados de lado 2L, siendo L los números múltiplos\n",
    "de 5 comprendidos entre 5825 y 7771 (incluyendo ambos extremos). Escriba la respuesta aproximada a seis (6) cifras decimales. \n",
    "\"\"\""
   ]
  },
  {
   "cell_type": "code",
   "execution_count": null,
   "metadata": {
    "collapsed": true
   },
   "outputs": [],
   "source": [
    "import math\n",
    "a = 5825\n",
    "b = 7771\n",
    "L = 0\n",
    "s = 0\n",
    "\n",
    "for i in range(a,b+1):\n",
    "    if i%5 == 0:\n",
    "        P = (2*i)*4\n",
    "        L += P\n",
    "        s += 1\n",
    "p = L/s\n",
    "print(round(math.cos(p),6))"
   ]
  },
  {
   "cell_type": "code",
   "execution_count": null,
   "metadata": {
    "collapsed": true
   },
   "outputs": [],
   "source": [
    "\"\"\"\n",
    "(8M)\n",
    "Calcule el seno de la suma de las áreas de los paralelogramos de lado 2L y altura 3M/2. Siendo L y M los ultimos 100 numeros\n",
    "comprendidos entre 3766 y 5766 cuyo modulo por 3 sea igual a 2 y la raiz cubica de los ultimos 100 numeros multiplos de 5\n",
    "comprendidos entre 901 y 4766 respectivamente. (incluyendo ambos extremos). Escriba la respuesta aproximada a seis (6) \n",
    "cifras decimales.\n",
    "\"\"\""
   ]
  },
  {
   "cell_type": "code",
   "execution_count": null,
   "metadata": {
    "collapsed": true
   },
   "outputs": [],
   "source": [
    "import math\n",
    "a = 3766\n",
    "b = 5766\n",
    "c = 901\n",
    "d = 4766\n",
    "L = []\n",
    "M = []\n",
    "s = 0\n",
    "\n",
    "for i in range(b,a,-1):\n",
    "    if i%3==2:\n",
    "        L.append(i)\n",
    "    if len(L)==100:\n",
    "        break\n",
    "for i in range (d,c,-1):\n",
    "    if i%5 == 0:\n",
    "        r = i ** (1/3)\n",
    "        M.append(r)\n",
    "    if len(M)==100:\n",
    "        break\n",
    "for i in range (0,100):\n",
    "    a = (2*L[i])*((M[i]*3)/2)\n",
    "    s += a\n",
    "print(round(math.sin(s),6))"
   ]
  },
  {
   "cell_type": "code",
   "execution_count": null,
   "metadata": {
    "collapsed": true
   },
   "outputs": [],
   "source": [
    "\"\"\"\n",
    "(9M)\n",
    "Calcule el seno de la suma de las áreas de los paralelogramos de lado 2L y altura 3M/2. Siendo L y M el logaritmo natural\n",
    "de los primeros 60 numeros multiplos de 5 comprendidos entre 1661 y 2661 y el producto de PI por el coseno de los primeros\n",
    "60 numeros impares entre 715 y 2661 respectivamente. (Tomar PI como 3,1416) (incluyendo ambos extremos). Escriba la\n",
    "respuesta aproximada a seis (6) cifras decimales.\n",
    "\"\"\""
   ]
  },
  {
   "cell_type": "code",
   "execution_count": 1,
   "metadata": {},
   "outputs": [
    {
     "name": "stdout",
     "output_type": "stream",
     "text": [
      "0.988092553778 6\n"
     ]
    }
   ],
   "source": [
    "from math import cos\n",
    "from math import sin\n",
    "from math import tan\n",
    "import numpy as np\n",
    "\n",
    "a = 1661\n",
    "b = 2661\n",
    "c = 715\n",
    "d = 2661\n",
    "L = []\n",
    "M = []\n",
    "s = 0\n",
    "\n",
    "for i in range(a,b):\n",
    "    if i%5==0:\n",
    "        l = np.log1p(i)\n",
    "        L.append(l)\n",
    "    if len(L)==60:\n",
    "        break\n",
    "for i in range (c,d):\n",
    "    if i%2 != 0:\n",
    "        r = (np.cos(i))*(3.1416)\n",
    "        M.append(r)\n",
    "    if len(M)==60:\n",
    "        break\n",
    "        \n",
    "        \n",
    "for i in range (0,60):\n",
    "    a = (2*L[i])*(M[i]*3/2)\n",
    "    s += a\n",
    "print(np.sin(round(s+0.001,4)))"
   ]
  },
  {
   "cell_type": "code",
   "execution_count": 13,
   "metadata": {},
   "outputs": [
    {
     "name": "stdout",
     "output_type": "stream",
     "text": [
      "10.8417607401\n"
     ]
    }
   ],
   "source": [
    "print(np.arcsin(0.988194)+3*np.pi)"
   ]
  },
  {
   "cell_type": "code",
   "execution_count": null,
   "metadata": {
    "collapsed": true
   },
   "outputs": [],
   "source": [
    "\"\"\"\n",
    "(10M)\n",
    "Calcule el coseno de la suma de los perímetros de los triángulos rectangulos de lado L y altura M. Siendo L y M \n",
    "los primeros 50 numeros comprendidos entre 1524 y 1872 cuya division entera por 3 sea menor a 950 y multiplo de 5 \n",
    "y la raiz cuadrada de los primeros 50 numeros multiplos de 8 comprendidos entre 4432 y 5962 respectivamente. \n",
    "(incluyendo ambos extremos). Escriba la respuesta aproximada a seis (6) cifras decimales.\n",
    "\n",
    "-0.966225\n",
    "\"\"\""
   ]
  },
  {
   "cell_type": "code",
   "execution_count": null,
   "metadata": {
    "collapsed": true
   },
   "outputs": [],
   "source": [
    "import math \n",
    "a = 1524\n",
    "b = 1872\n",
    "c = 4432\n",
    "d = 5962\n",
    "L = []\n",
    "M = []\n",
    "s = 0\n",
    "\n",
    "for i in range(a,b):\n",
    "    if int(i/3)<950 and i%5 == 0:\n",
    "        L.append(i)\n",
    "    if len(L)==50:\n",
    "        break\n",
    "for i in range (c,d):\n",
    "    if i%8 == 0:\n",
    "        r = i**0.5\n",
    "        M.append(r)\n",
    "    if len(M)==50:\n",
    "        break\n",
    "        \n",
    "for i in range (0,50):\n",
    "    h = ((L[i]**2)+(M[i]**2))**0.5\n",
    "    a = h+ L[i]+M[i]\n",
    "    s += a\n",
    "print(math.cos(s))"
   ]
  },
  {
   "cell_type": "code",
   "execution_count": null,
   "metadata": {
    "collapsed": true
   },
   "outputs": [],
   "source": [
    "\"\"\"\n",
    "Calcule el logaritmo natural del valor absoluto del promedio de los perímetros de los triángulos equiláteros de lado L.\n",
    "Siendo L los números pares comprendidos entre 2903 y 4693 múltiplos de tres y cuatro simultáneamente (incluyendo ambos\n",
    "extremos). Escriba la respuesta aproximada a seis (6) cifras decimales.\n",
    "\"\"\""
   ]
  },
  {
   "cell_type": "code",
   "execution_count": 1,
   "metadata": {},
   "outputs": [
    {
     "name": "stdout",
     "output_type": "stream",
     "text": [
      "9.3409299416798\n"
     ]
    }
   ],
   "source": [
    "import math\n",
    "a = 2903\n",
    "b = 4693\n",
    "L = []\n",
    "for i in range(a,b+1):\n",
    "    if i % 3 == 0 and i%4 == 0:\n",
    "        r = i*3\n",
    "        L.append(r)\n",
    "\n",
    "print(round(math.log1p(sum(L)/len(L)) ,13))"
   ]
  },
  {
   "cell_type": "code",
   "execution_count": null,
   "metadata": {
    "collapsed": true
   },
   "outputs": [],
   "source": [
    "\"\"\"\n",
    "Calcule el coseno del promedio de los volúmenes de los cilindros de radio L/2 y altura 2M(tomar pi como 3,14). Siendo L y M\n",
    "el logaritmo natural de los primeros 60 numeros multiplos de 5 comprendidos entre 1661 y 2661 y el producto de PI por el coseno\n",
    "de los primeros 60 numeros impares entre 715 y 2661 respectivamente. (Tomar PI como 3,1416) (incluyendo ambos extremos).\n",
    "Escriba la respuesta aproximada a seis (6) cifras decimales.\n",
    "\n",
    "\"\"\""
   ]
  },
  {
   "cell_type": "code",
   "execution_count": 9,
   "metadata": {},
   "outputs": [
    {
     "name": "stdout",
     "output_type": "stream",
     "text": [
      "0.7232376255792853\n"
     ]
    }
   ],
   "source": [
    "import math\n",
    "a = 1661\n",
    "b = 2661\n",
    "c = 715\n",
    "d = 2661\n",
    "V = 0\n",
    "L = []\n",
    "M = []\n",
    "for i in range(a,b+1):\n",
    "    if i%5==0:\n",
    "        l = math.log1p(i)\n",
    "        L.append(l)\n",
    "    if len(L)==60:\n",
    "        break\n",
    "for i in range (c,d+1):\n",
    "    if i%2 != 0:\n",
    "        r = (math.cos(i))*(3.1416)\n",
    "        M.append(r)\n",
    "    if len(M)==60:\n",
    "        break\n",
    "\n",
    "for i in range(0,60):\n",
    "        v = ((L[i]/2)**2)*3.14*(2*M[i])\n",
    "        V +=v\n",
    "print(math.cos(V/60))\n",
    "        "
   ]
  },
  {
   "cell_type": "code",
   "execution_count": null,
   "metadata": {
    "collapsed": true
   },
   "outputs": [],
   "source": [
    "\"\"\"\n",
    "Calcule el seno de la suma de volúmenes de las esferas de diametro L(tomar pi como 3,14). Siendo L los números impares múltiplos\n",
    "de tres comprendidos entre 2736 y 4533 (incluyendo ambos extremos). Escriba la respuesta aproximada a seis (6) cifras decimales.\n",
    "\"\"\""
   ]
  },
  {
   "cell_type": "code",
   "execution_count": 2,
   "metadata": {},
   "outputs": [
    {
     "name": "stdout",
     "output_type": "stream",
     "text": [
      "-0.588178\n"
     ]
    }
   ],
   "source": [
    "import math\n",
    "a = 2736\n",
    "b = 4533\n",
    "L = 0\n",
    "for i in range(a,b+1):\n",
    "    if i % 2 != 0 and i % 3 == 0:\n",
    "        r = i / 2\n",
    "        v = 3.14 * (r ** 3) * 4 / 3\n",
    "        L += v\n",
    "print(round(math.sin(L) ,6))"
   ]
  },
  {
   "cell_type": "code",
   "execution_count": null,
   "metadata": {
    "collapsed": true
   },
   "outputs": [],
   "source": [
    "\"\"\"\n",
    "Calcule el seno de la suma de los perimetros de los cuadrados de lado L, siendo L los números pares comprendidos entre\n",
    "3186 y 4869 (incluyendo ambos extremos). Escriba la respuesta aproximada a seis (6) cifras decimales. \n",
    "\n",
    "\"\"\""
   ]
  },
  {
   "cell_type": "code",
   "execution_count": 4,
   "metadata": {},
   "outputs": [
    {
     "name": "stdout",
     "output_type": "stream",
     "text": [
      "0.936022\n"
     ]
    }
   ],
   "source": [
    "import math\n",
    "\n",
    "a = 3186\n",
    "b = 4869\n",
    "s = 0\n",
    "\n",
    "for i in range (a,b+1):\n",
    "    if i %2==0:\n",
    "        p = (i)*4\n",
    "        s+=p\n",
    "print(round(math.sin(s),6))"
   ]
  },
  {
   "cell_type": "code",
   "execution_count": null,
   "metadata": {
    "collapsed": true
   },
   "outputs": [],
   "source": [
    "\"\"\"\n",
    "Calcule el coseno de la suma de las hipotenusas de los triángulos rectángulos con altura M/2 y lado L. Siendo L y M el logaritmo\n",
    "natural de los primeros 90 numeros multiplos de 5 comprendidos entre 10000 y 15000 y los primeros 90 numeros comprendidos entre\n",
    "6453 y 7564 cuyo modulo por 3 sea igual a 2 respectivamente. (incluyendo ambos extremos). Escriba la respuesta aproximada\n",
    "a seis (6) cifras decimales.\n",
    "\n",
    "\"\"\""
   ]
  },
  {
   "cell_type": "code",
   "execution_count": 8,
   "metadata": {},
   "outputs": [
    {
     "name": "stdout",
     "output_type": "stream",
     "text": [
      "0.5397807195501813\n"
     ]
    }
   ],
   "source": [
    "import math \n",
    "a = 10000\n",
    "b = 15000\n",
    "c = 6453\n",
    "d = 7564\n",
    "L = []\n",
    "M = []\n",
    "s = 0\n",
    "\n",
    "for i in range(a,b+1):\n",
    "    if  i%5 == 0:\n",
    "        l = math.log1p(i)\n",
    "        L.append(l)\n",
    "    if len(L)==90:\n",
    "        break\n",
    "for i in range (c,d+1):\n",
    "    if i%3 == 2:\n",
    "        m = (i/2)\n",
    "        M.append(m)\n",
    "    if len(M)==90:\n",
    "        break\n",
    "        \n",
    "for i in range (0,90):\n",
    "    h = ((L[i]**2)+(M[i]**2))**0.5\n",
    "    s += h\n",
    "print(math.cos(s))"
   ]
  }
 ],
 "metadata": {
  "kernelspec": {
   "display_name": "Python 3",
   "language": "python",
   "name": "python3"
  },
  "language_info": {
   "codemirror_mode": {
    "name": "ipython",
    "version": 3
   },
   "file_extension": ".py",
   "mimetype": "text/x-python",
   "name": "python",
   "nbconvert_exporter": "python",
   "pygments_lexer": "ipython3",
   "version": "3.5.2"
  }
 },
 "nbformat": 4,
 "nbformat_minor": 2
}
